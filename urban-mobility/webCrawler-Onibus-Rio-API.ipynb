{
 "cells": [
  {
   "cell_type": "markdown",
   "metadata": {},
   "source": [
    "# Web Crawler API Onibus Rio"
   ]
  },
  {
   "cell_type": "markdown",
   "metadata": {},
   "source": [
    "### version: v01\n",
    "* Busca conteúdo da API da Prefeitura do Rio de 60 em 60 segundos.\n",
    "* Salva arquivo a cada 60 segundos com formato YYYYMMDD_HHMMSS.json\n",
    "\n",
    "### version: v02\n",
    "* Definir se realizará um append dos dados em único arquivo por dia, ou processar todos os arquivos gerados ao longo do dia para criar apenas um.\n",
    "\n",
    "### version: v03\n",
    "* Definir como será a inserção dos dados no banco de dados."
   ]
  },
  {
   "cell_type": "code",
   "execution_count": 1,
   "metadata": {},
   "outputs": [],
   "source": [
    "%config IPCompleter.greedy=True"
   ]
  },
  {
   "cell_type": "code",
   "execution_count": 2,
   "metadata": {},
   "outputs": [],
   "source": [
    "import requests as req\n",
    "import json\n",
    "import time\n",
    "import pandas as pd"
   ]
  },
  {
   "cell_type": "code",
   "execution_count": 3,
   "metadata": {},
   "outputs": [],
   "source": [
    "def window_wait():\n",
    "    time.sleep(60);"
   ]
  },
  {
   "cell_type": "code",
   "execution_count": null,
   "metadata": {},
   "outputs": [],
   "source": [
    "continua=1\n",
    "while (continua==1):\n",
    "    try:\n",
    "        response = req.get('http://dadosabertos.rio.rj.gov.br/apiTransporte/apresentacao/rest/index.cfm/obterTodasPosicoes')\n",
    "        response.apparent_encoding\n",
    "        json_res = response.json()\n",
    "        time_now = time.strftime('%Y%m%d_%H%M%S')\n",
    "        with open('//10.3.40.11/srjb6_dados/Atlas/AtlasViolencia/rio-onibus/dados-api/datario_onibus_'+time_now+'.json', 'w') as f:\n",
    "            json.dump(json_res, f)\n",
    "            f.close()\n",
    "            window_wait()\n",
    "    except runError as r:\n",
    "        #timeout = 1.0\n",
    "        print (r)\n",
    "        print ('aguardar')\n",
    "        window_wait()\n",
    "        pass"
   ]
  },
  {
   "cell_type": "code",
   "execution_count": 8,
   "metadata": {},
   "outputs": [
    {
     "data": {
      "text/html": [
       "<div>\n",
       "<style scoped>\n",
       "    .dataframe tbody tr th:only-of-type {\n",
       "        vertical-align: middle;\n",
       "    }\n",
       "\n",
       "    .dataframe tbody tr th {\n",
       "        vertical-align: top;\n",
       "    }\n",
       "\n",
       "    .dataframe thead th {\n",
       "        text-align: right;\n",
       "    }\n",
       "</style>\n",
       "<table border=\"1\" class=\"dataframe\">\n",
       "  <thead>\n",
       "    <tr style=\"text-align: right;\">\n",
       "      <th></th>\n",
       "      <th>DATAHORA</th>\n",
       "      <th>ORDEM</th>\n",
       "      <th>LINHA</th>\n",
       "      <th>LATITUDE</th>\n",
       "      <th>LONGITUDE</th>\n",
       "      <th>VELOCIDADE</th>\n",
       "    </tr>\n",
       "  </thead>\n",
       "  <tbody>\n",
       "    <tr>\n",
       "      <th>0</th>\n",
       "      <td>2019-03-17 00:02:19</td>\n",
       "      <td>D53564</td>\n",
       "      <td></td>\n",
       "      <td>-22.884010</td>\n",
       "      <td>-43.496181</td>\n",
       "      <td>0.0</td>\n",
       "    </tr>\n",
       "    <tr>\n",
       "      <th>1</th>\n",
       "      <td>2019-03-17 00:11:12</td>\n",
       "      <td>A29133</td>\n",
       "      <td></td>\n",
       "      <td>-22.868460</td>\n",
       "      <td>-43.292191</td>\n",
       "      <td>0.0</td>\n",
       "    </tr>\n",
       "    <tr>\n",
       "      <th>2</th>\n",
       "      <td>2019-03-17 00:11:45</td>\n",
       "      <td>D13271</td>\n",
       "      <td>926</td>\n",
       "      <td>-22.883421</td>\n",
       "      <td>-43.552509</td>\n",
       "      <td>0.0</td>\n",
       "    </tr>\n",
       "    <tr>\n",
       "      <th>3</th>\n",
       "      <td>2019-03-17 00:13:23</td>\n",
       "      <td>A27548</td>\n",
       "      <td>433</td>\n",
       "      <td>-22.920271</td>\n",
       "      <td>-43.255779</td>\n",
       "      <td>0.0</td>\n",
       "    </tr>\n",
       "    <tr>\n",
       "      <th>4</th>\n",
       "      <td>2019-03-17 00:21:25</td>\n",
       "      <td>A27519</td>\n",
       "      <td></td>\n",
       "      <td>-22.920780</td>\n",
       "      <td>-43.256241</td>\n",
       "      <td>0.0</td>\n",
       "    </tr>\n",
       "  </tbody>\n",
       "</table>\n",
       "</div>"
      ],
      "text/plain": [
       "             DATAHORA   ORDEM LINHA   LATITUDE  LONGITUDE  VELOCIDADE\n",
       "0 2019-03-17 00:02:19  D53564       -22.884010 -43.496181         0.0\n",
       "1 2019-03-17 00:11:12  A29133       -22.868460 -43.292191         0.0\n",
       "2 2019-03-17 00:11:45  D13271   926 -22.883421 -43.552509         0.0\n",
       "3 2019-03-17 00:13:23  A27548   433 -22.920271 -43.255779         0.0\n",
       "4 2019-03-17 00:21:25  A27519       -22.920780 -43.256241         0.0"
      ]
     },
     "execution_count": 8,
     "metadata": {},
     "output_type": "execute_result"
    }
   ],
   "source": [
    "response = req.get('http://dadosabertos.rio.rj.gov.br/apiTransporte/apresentacao/rest/index.cfm/obterTodasPosicoes')\n",
    "json_api = response.json()\n",
    "json_header = json_api['COLUMNS']\n",
    "json_data = json_api['DATA']\n",
    "datario_content = pd.DataFrame(json_data,columns=json_header)\n",
    "datahora = pd.to_datetime(datario_content['DATAHORA'])\n",
    "datario_content['DATAHORA'] = datahora\n",
    "duplicated_found = datario_content.duplicated(subset=['DATAHORA', 'ORDEM'],keep=False).sum()\n",
    "datario_content_dup=datario_content.drop_duplicates(keep=False)\n",
    "datario_content.head()"
   ]
  },
  {
   "cell_type": "code",
   "execution_count": 9,
   "metadata": {},
   "outputs": [
    {
     "data": {
      "text/html": [
       "<div>\n",
       "<style scoped>\n",
       "    .dataframe tbody tr th:only-of-type {\n",
       "        vertical-align: middle;\n",
       "    }\n",
       "\n",
       "    .dataframe tbody tr th {\n",
       "        vertical-align: top;\n",
       "    }\n",
       "\n",
       "    .dataframe thead th {\n",
       "        text-align: right;\n",
       "    }\n",
       "</style>\n",
       "<table border=\"1\" class=\"dataframe\">\n",
       "  <thead>\n",
       "    <tr style=\"text-align: right;\">\n",
       "      <th></th>\n",
       "      <th>DATAHORA</th>\n",
       "      <th>ORDEM</th>\n",
       "      <th>LINHA</th>\n",
       "      <th>LATITUDE</th>\n",
       "      <th>LONGITUDE</th>\n",
       "      <th>VELOCIDADE</th>\n",
       "    </tr>\n",
       "  </thead>\n",
       "  <tbody>\n",
       "    <tr>\n",
       "      <th>0</th>\n",
       "      <td>2019-03-17 00:02:19</td>\n",
       "      <td>D53564</td>\n",
       "      <td></td>\n",
       "      <td>-22.884010</td>\n",
       "      <td>-43.496181</td>\n",
       "      <td>0.0</td>\n",
       "    </tr>\n",
       "    <tr>\n",
       "      <th>1</th>\n",
       "      <td>2019-03-17 00:11:12</td>\n",
       "      <td>A29133</td>\n",
       "      <td></td>\n",
       "      <td>-22.868460</td>\n",
       "      <td>-43.292191</td>\n",
       "      <td>0.0</td>\n",
       "    </tr>\n",
       "    <tr>\n",
       "      <th>2</th>\n",
       "      <td>2019-03-17 00:11:45</td>\n",
       "      <td>D13271</td>\n",
       "      <td>926</td>\n",
       "      <td>-22.883421</td>\n",
       "      <td>-43.552509</td>\n",
       "      <td>0.0</td>\n",
       "    </tr>\n",
       "    <tr>\n",
       "      <th>3</th>\n",
       "      <td>2019-03-17 00:13:23</td>\n",
       "      <td>A27548</td>\n",
       "      <td>433</td>\n",
       "      <td>-22.920271</td>\n",
       "      <td>-43.255779</td>\n",
       "      <td>0.0</td>\n",
       "    </tr>\n",
       "    <tr>\n",
       "      <th>4</th>\n",
       "      <td>2019-03-17 00:21:25</td>\n",
       "      <td>A27519</td>\n",
       "      <td></td>\n",
       "      <td>-22.920780</td>\n",
       "      <td>-43.256241</td>\n",
       "      <td>0.0</td>\n",
       "    </tr>\n",
       "  </tbody>\n",
       "</table>\n",
       "</div>"
      ],
      "text/plain": [
       "             DATAHORA   ORDEM LINHA   LATITUDE  LONGITUDE  VELOCIDADE\n",
       "0 2019-03-17 00:02:19  D53564       -22.884010 -43.496181         0.0\n",
       "1 2019-03-17 00:11:12  A29133       -22.868460 -43.292191         0.0\n",
       "2 2019-03-17 00:11:45  D13271   926 -22.883421 -43.552509         0.0\n",
       "3 2019-03-17 00:13:23  A27548   433 -22.920271 -43.255779         0.0\n",
       "4 2019-03-17 00:21:25  A27519       -22.920780 -43.256241         0.0"
      ]
     },
     "execution_count": 9,
     "metadata": {},
     "output_type": "execute_result"
    }
   ],
   "source": [
    "datario_content_dup.head()"
   ]
  }
 ],
 "metadata": {
  "kernelspec": {
   "display_name": "Python 3",
   "language": "python",
   "name": "python3"
  },
  "language_info": {
   "codemirror_mode": {
    "name": "ipython",
    "version": 3
   },
   "file_extension": ".py",
   "mimetype": "text/x-python",
   "name": "python",
   "nbconvert_exporter": "python",
   "pygments_lexer": "ipython3",
   "version": "3.6.8"
  }
 },
 "nbformat": 4,
 "nbformat_minor": 2
}
