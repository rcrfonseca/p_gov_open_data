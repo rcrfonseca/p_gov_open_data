{
 "cells": [
  {
   "cell_type": "markdown",
   "metadata": {},
   "source": [
    "# Web Crawler API Onibus Rio - CSV Version"
   ]
  },
  {
   "cell_type": "markdown",
   "metadata": {},
   "source": [
    "# Version 01: <-\n",
    "    * Busca conteúdo da API da Prefeitura do Rio de 60 em 60 segundos.\n",
    "    * Salva arquivo .csv e realiza append a cada 60 segundos no arquivo .csv <-\n",
    "# Version 02:\n",
    "    * Drop all duplicates.\n",
    "    * Define time to cut data to write into file"
   ]
  },
  {
   "cell_type": "code",
   "execution_count": 1,
   "metadata": {},
   "outputs": [],
   "source": [
    "import csv, time, json, pandas as pd, requests as req"
   ]
  },
  {
   "cell_type": "code",
   "execution_count": 2,
   "metadata": {},
   "outputs": [],
   "source": [
    "%config IPCompleter.greedy=True"
   ]
  },
  {
   "cell_type": "code",
   "execution_count": 3,
   "metadata": {},
   "outputs": [],
   "source": [
    "def window_wait():\n",
    "    time.sleep(60);"
   ]
  },
  {
   "cell_type": "markdown",
   "metadata": {},
   "source": [
    "def remove_duplicates(df):\n",
    "    df = pd.DataFrame\n",
    "    global df_total\n",
    "    df_total = pd.DataFrame\n",
    "    df_total.append(df)    \n",
    "    df_total.drop_duplicates(keep=\"first\",inplace=True)\n",
    "    return df_total"
   ]
  },
  {
   "cell_type": "code",
   "execution_count": null,
   "metadata": {},
   "outputs": [],
   "source": [
    "continua=1\n",
    "rodada = 0\n",
    "while (continua==1):\n",
    "        try:\n",
    "            response = req.get('http://dadosabertos.rio.rj.gov.br/apiTransporte/apresentacao/rest/index.cfm/obterTodasPosicoes')\n",
    "            json_api = response.json()\n",
    "            json_header = json_api['COLUMNS']\n",
    "            json_data = json_api['DATA']\n",
    "            df = pd.DataFrame(json_data, columns=json_header)\n",
    "            #remove_duplicates(df)\n",
    "            #df_min_ant\n",
    "            start_exec = time.strftime('%Y%m%d')\n",
    "            #if ((df.shape==df_min_ant.shape) and (df_min_ant.DATAHORA.values[len(df)-1] == df.DATAHORA.values[len(df)-1])):\n",
    "            if (rodada == 0):\n",
    "                with open(\"/data/dumps/datario-bus/datariobus.csv\", \"w\") as fcsv:\n",
    "                    #df_total['DATAHORA'] = pd.to_datetime(df_total['DATAHORA'])\n",
    "                    df.set_index('DATAHORA', inplace=True)\n",
    "                    df.to_csv(fcsv,sep=\";\")\n",
    "                    rodada = rodada+1\n",
    "            else:\n",
    "                with open(\"/data/dumps/datario-bus/datariobus.csv\", \"a+\") as fcsv:\n",
    "                    #df_total = df_total.append(df,sort=False)\n",
    "                    #df_total.drop_duplicates(keep=\"first\",inplace=True)\n",
    "                    #df_total['DATAHORA'] = pd.to_datetime(df_total['DATAHORA'])\n",
    "                    df.set_index('DATAHORA', inplace=True)\n",
    "                    df.to_csv(fcsv,sep=\";\",header=None)\n",
    "                    rodada = rodada+1\n",
    "        except runError as r:\n",
    "            print (runError)\n",
    "            print ('aguardar')\n",
    "            window_wait()\n",
    "            pass\n",
    "        finally:\n",
    "            window_wait()\n",
    "            \"\"\"investigacao = pd.read_csv(\"./datariocsv.csv\",sep=\";\")\n",
    "            investigacao = pd.DataFrame\n",
    "            df_total = investigacao\n",
    "            df_total = df_total.append(investigacao,sort=False)\n",
    "            df_total.drop_duplicates(keep=\"first\",inplace=True)\n",
    "            df_total['DATAHORA'] = pd.to_datetime(df_total['DATAHORA'])\n",
    "            df_total.set_index('DATAHORA', inplace=True)\n",
    "            df_total.to_csv(\"./datariocsv2.csv\",sep=\";\",header=None)\"\"\"\n",
    "            pass"
   ]
  }
 ],
 "metadata": {
  "kernelspec": {
   "display_name": "Python 3",
   "language": "python",
   "name": "python3"
  },
  "language_info": {
   "codemirror_mode": {
    "name": "ipython",
    "version": 3
   },
   "file_extension": ".py",
   "mimetype": "text/x-python",
   "name": "python",
   "nbconvert_exporter": "python",
   "pygments_lexer": "ipython3",
   "version": "3.6.8"
  }
 },
 "nbformat": 4,
 "nbformat_minor": 2
}
